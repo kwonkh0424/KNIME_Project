{
 "cells": [
  {
   "cell_type": "code",
   "execution_count": 1,
   "metadata": {},
   "outputs": [],
   "source": [
    "import pandas as pd # For data manipulation and analysis\n",
    "pd.set_option('display.max_columns', 500)\n",
    "import numpy as np # For scientific computing"
   ]
  },
  {
   "cell_type": "code",
   "execution_count": 29,
   "metadata": {},
   "outputs": [
    {
     "data": {
      "text/plain": [
       "89.51793103448274"
      ]
     },
     "execution_count": 29,
     "metadata": {},
     "output_type": "execute_result"
    }
   ],
   "source": [
    "ind = pd.read_csv(r'industry.csv')\n",
    "ind = furn.dropna()\n",
    "\n",
    "\n",
    "ind['tobacco'].mean()"
   ]
  },
  {
   "cell_type": "code",
   "execution_count": 59,
   "metadata": {},
   "outputs": [],
   "source": [
    "def gini_calc(column):\n",
    "    df = ind[column]\n",
    "    df = df/df.sum()\n",
    "    sums_total=0\n",
    "    \n",
    "    constant=1 / (2 * (31*31) * df.mean() )\n",
    "    \n",
    "    for index1 in df.index:\n",
    "        for index2 in df.index:\n",
    "            sums=abs(df.loc[index1]-df.loc[index2])\n",
    "            sums_total=sums_total+sums\n",
    "    gini=sums_total*constant\n",
    "    return gini,df"
   ]
  },
  {
   "cell_type": "code",
   "execution_count": 60,
   "metadata": {},
   "outputs": [
    {
     "data": {
      "text/plain": [
       "0.4714392745972521"
      ]
     },
     "execution_count": 60,
     "metadata": {},
     "output_type": "execute_result"
    }
   ],
   "source": [
    "gini,df=gini_calc('tobacco')\n",
    "\n",
    "gini"
   ]
  },
  {
   "cell_type": "code",
   "execution_count": null,
   "metadata": {},
   "outputs": [],
   "source": []
  }
 ],
 "metadata": {
  "kernelspec": {
   "display_name": "Python 3",
   "language": "python",
   "name": "python3"
  },
  "language_info": {
   "codemirror_mode": {
    "name": "ipython",
    "version": 3
   },
   "file_extension": ".py",
   "mimetype": "text/x-python",
   "name": "python",
   "nbconvert_exporter": "python",
   "pygments_lexer": "ipython3",
   "version": "3.7.6"
  }
 },
 "nbformat": 4,
 "nbformat_minor": 4
}
